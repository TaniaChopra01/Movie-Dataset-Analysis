{
 "cells": [
  {
   "cell_type": "markdown",
   "id": "30b1cade",
   "metadata": {},
   "source": [
    "# Microsoft Movie Dataset Analysis"
   ]
  },
  {
   "cell_type": "markdown",
   "id": "e05d67a9",
   "metadata": {},
   "source": [
    "# Overview\n",
    "Microsoft is planning to open a new Movies Studio. There are opportunities available out there and we would like to know which movies are best in the interest of the business to create. This project analyzes the Movie datasets with a view to advise the stakeholders on types of movies to create and they can use the insights to make the best business decisions. This project will use descriptive analysis."
   ]
  },
  {
   "cell_type": "markdown",
   "id": "cac52113",
   "metadata": {},
   "source": [
    "# Business Problem\n",
    "\n",
    "Microsoft is planning to open a new Movies Studio. We would like to analyse information on the types of movies to be created which are in the best interest of the business. Business will use these insights on selecting the right type of movies to create. I would be analysing the datasets to find the folllowing information:\n",
    "\n",
    "*Finding the best types of movies to creates\n",
    "*Best release months in the year\n",
    "*Ideal length of our movies "
   ]
  },
  {
   "cell_type": "markdown",
   "id": "9b2acc30",
   "metadata": {},
   "source": [
    "# Data Understanding\n",
    "\n",
    "\n",
    "We are using the IMDB datasets and The Numbers (TN) datasets for our analysis purpose- Titles, Ratings and Budgets. These datasets have records of related to each movie release with the information on their budgets, collections, genres, avarege ratings and more. \n"
   ]
  },
  {
   "cell_type": "code",
   "execution_count": 49,
   "id": "507df96a",
   "metadata": {},
   "outputs": [],
   "source": [
    "import numpy as np\n",
    "import pandas as pd\n",
    "import seaborn as sns\n",
    "import matplotlib\n",
    "import matplotlib.pyplot as plt\n",
    "\n",
    "%matplotlib inline"
   ]
  },
  {
   "cell_type": "markdown",
   "id": "d8a1d1e0",
   "metadata": {},
   "source": [
    "# Reading the Data\n",
    "\n",
    "Lets have a look at our files and the columns."
   ]
  },
  {
   "cell_type": "code",
   "execution_count": 3,
   "id": "9a500c01",
   "metadata": {},
   "outputs": [],
   "source": [
    "# reading the data\n",
    "title=pd.read_csv('imdb.title.basics.csv.gz')\n",
    "rating=pd.read_csv('imdb.title.ratings.csv.gz')\n",
    "budget=pd.read_csv('tn.movie_budgets.csv.gz')\n"
   ]
  },
  {
   "cell_type": "code",
   "execution_count": 12,
   "id": "84488efb",
   "metadata": {},
   "outputs": [
    {
     "data": {
      "text/html": [
       "<div>\n",
       "<style scoped>\n",
       "    .dataframe tbody tr th:only-of-type {\n",
       "        vertical-align: middle;\n",
       "    }\n",
       "\n",
       "    .dataframe tbody tr th {\n",
       "        vertical-align: top;\n",
       "    }\n",
       "\n",
       "    .dataframe thead th {\n",
       "        text-align: right;\n",
       "    }\n",
       "</style>\n",
       "<table border=\"1\" class=\"dataframe\">\n",
       "  <thead>\n",
       "    <tr style=\"text-align: right;\">\n",
       "      <th></th>\n",
       "      <th>tconst</th>\n",
       "      <th>primary_title</th>\n",
       "      <th>original_title</th>\n",
       "      <th>start_year</th>\n",
       "      <th>runtime_minutes</th>\n",
       "      <th>genres</th>\n",
       "    </tr>\n",
       "  </thead>\n",
       "  <tbody>\n",
       "    <tr>\n",
       "      <th>0</th>\n",
       "      <td>tt0063540</td>\n",
       "      <td>Sunghursh</td>\n",
       "      <td>Sunghursh</td>\n",
       "      <td>2013</td>\n",
       "      <td>175.0</td>\n",
       "      <td>Action,Crime,Drama</td>\n",
       "    </tr>\n",
       "  </tbody>\n",
       "</table>\n",
       "</div>"
      ],
      "text/plain": [
       "      tconst primary_title original_title  start_year  runtime_minutes  \\\n",
       "0  tt0063540     Sunghursh      Sunghursh        2013            175.0   \n",
       "\n",
       "               genres  \n",
       "0  Action,Crime,Drama  "
      ]
     },
     "execution_count": 12,
     "metadata": {},
     "output_type": "execute_result"
    }
   ],
   "source": [
    "title.head(1)"
   ]
  },
  {
   "cell_type": "code",
   "execution_count": 42,
   "id": "f9a04f17",
   "metadata": {},
   "outputs": [
    {
     "name": "stdout",
     "output_type": "stream",
     "text": [
      "<class 'pandas.core.frame.DataFrame'>\n",
      "RangeIndex: 146144 entries, 0 to 146143\n",
      "Data columns (total 6 columns):\n",
      " #   Column           Non-Null Count   Dtype  \n",
      "---  ------           --------------   -----  \n",
      " 0   tconst           146144 non-null  object \n",
      " 1   primary_title    146144 non-null  object \n",
      " 2   original_title   146123 non-null  object \n",
      " 3   start_year       146144 non-null  int64  \n",
      " 4   runtime_minutes  114405 non-null  float64\n",
      " 5   genres           140736 non-null  object \n",
      "dtypes: float64(1), int64(1), object(4)\n",
      "memory usage: 6.7+ MB\n"
     ]
    }
   ],
   "source": [
    "title.info()"
   ]
  },
  {
   "cell_type": "code",
   "execution_count": 44,
   "id": "84bc08ae",
   "metadata": {},
   "outputs": [
    {
     "data": {
      "text/html": [
       "<div>\n",
       "<style scoped>\n",
       "    .dataframe tbody tr th:only-of-type {\n",
       "        vertical-align: middle;\n",
       "    }\n",
       "\n",
       "    .dataframe tbody tr th {\n",
       "        vertical-align: top;\n",
       "    }\n",
       "\n",
       "    .dataframe thead th {\n",
       "        text-align: right;\n",
       "    }\n",
       "</style>\n",
       "<table border=\"1\" class=\"dataframe\">\n",
       "  <thead>\n",
       "    <tr style=\"text-align: right;\">\n",
       "      <th></th>\n",
       "      <th>tconst</th>\n",
       "      <th>averagerating</th>\n",
       "      <th>numvotes</th>\n",
       "    </tr>\n",
       "  </thead>\n",
       "  <tbody>\n",
       "    <tr>\n",
       "      <th>0</th>\n",
       "      <td>tt10356526</td>\n",
       "      <td>8</td>\n",
       "      <td>31</td>\n",
       "    </tr>\n",
       "  </tbody>\n",
       "</table>\n",
       "</div>"
      ],
      "text/plain": [
       "       tconst  averagerating  numvotes\n",
       "0  tt10356526              8        31"
      ]
     },
     "execution_count": 44,
     "metadata": {},
     "output_type": "execute_result"
    }
   ],
   "source": [
    "rating.head(1)"
   ]
  },
  {
   "cell_type": "code",
   "execution_count": 45,
   "id": "b37ed05d",
   "metadata": {},
   "outputs": [
    {
     "name": "stdout",
     "output_type": "stream",
     "text": [
      "<class 'pandas.core.frame.DataFrame'>\n",
      "RangeIndex: 73856 entries, 0 to 73855\n",
      "Data columns (total 3 columns):\n",
      " #   Column         Non-Null Count  Dtype  \n",
      "---  ------         --------------  -----  \n",
      " 0   tconst         73856 non-null  object \n",
      " 1   averagerating  73856 non-null  float64\n",
      " 2   numvotes       73856 non-null  int64  \n",
      "dtypes: float64(1), int64(1), object(1)\n",
      "memory usage: 1.7+ MB\n"
     ]
    }
   ],
   "source": [
    "rating.info()"
   ]
  },
  {
   "cell_type": "code",
   "execution_count": 11,
   "id": "cba923c4",
   "metadata": {},
   "outputs": [
    {
     "data": {
      "text/html": [
       "<div>\n",
       "<style scoped>\n",
       "    .dataframe tbody tr th:only-of-type {\n",
       "        vertical-align: middle;\n",
       "    }\n",
       "\n",
       "    .dataframe tbody tr th {\n",
       "        vertical-align: top;\n",
       "    }\n",
       "\n",
       "    .dataframe thead th {\n",
       "        text-align: right;\n",
       "    }\n",
       "</style>\n",
       "<table border=\"1\" class=\"dataframe\">\n",
       "  <thead>\n",
       "    <tr style=\"text-align: right;\">\n",
       "      <th></th>\n",
       "      <th>id</th>\n",
       "      <th>release_date</th>\n",
       "      <th>movie</th>\n",
       "      <th>production_budget</th>\n",
       "      <th>domestic_gross</th>\n",
       "      <th>worldwide_gross</th>\n",
       "    </tr>\n",
       "  </thead>\n",
       "  <tbody>\n",
       "    <tr>\n",
       "      <th>0</th>\n",
       "      <td>1</td>\n",
       "      <td>Dec 18, 2009</td>\n",
       "      <td>Avatar</td>\n",
       "      <td>$425,000,000</td>\n",
       "      <td>$760,507,625</td>\n",
       "      <td>$2,776,345,279</td>\n",
       "    </tr>\n",
       "  </tbody>\n",
       "</table>\n",
       "</div>"
      ],
      "text/plain": [
       "   id  release_date   movie production_budget domestic_gross worldwide_gross\n",
       "0   1  Dec 18, 2009  Avatar      $425,000,000   $760,507,625  $2,776,345,279"
      ]
     },
     "execution_count": 11,
     "metadata": {},
     "output_type": "execute_result"
    }
   ],
   "source": [
    "budget.head(1)"
   ]
  },
  {
   "cell_type": "code",
   "execution_count": 46,
   "id": "4e54bca2",
   "metadata": {},
   "outputs": [
    {
     "name": "stdout",
     "output_type": "stream",
     "text": [
      "<class 'pandas.core.frame.DataFrame'>\n",
      "RangeIndex: 5782 entries, 0 to 5781\n",
      "Data columns (total 8 columns):\n",
      " #   Column             Non-Null Count  Dtype         \n",
      "---  ------             --------------  -----         \n",
      " 0   id                 5782 non-null   int64         \n",
      " 1   release_date       5782 non-null   datetime64[ns]\n",
      " 2   movie              5782 non-null   object        \n",
      " 3   production_budget  5782 non-null   object        \n",
      " 4   domestic_gross     5782 non-null   object        \n",
      " 5   worldwide_gross    5782 non-null   object        \n",
      " 6   year               5782 non-null   object        \n",
      " 7   month              5782 non-null   object        \n",
      "dtypes: datetime64[ns](1), int64(1), object(6)\n",
      "memory usage: 361.5+ KB\n"
     ]
    }
   ],
   "source": [
    "budget.info()"
   ]
  },
  {
   "cell_type": "code",
   "execution_count": 14,
   "id": "bf813287",
   "metadata": {},
   "outputs": [],
   "source": [
    "# updating the release date to date format and spliting the date into Months and Year columns.\n",
    "\n",
    "budget[\"release_date\"] = pd.to_datetime(budget[\"release_date\"])\n",
    "budget['year'] = budget['release_date'].apply(lambda x: str(x.year))\n",
    "budget['month'] = budget['release_date'].apply(lambda x: str(x.month))"
   ]
  },
  {
   "cell_type": "markdown",
   "id": "86a8a60f",
   "metadata": {},
   "source": [
    "# Data Cleaning and Merging\n",
    "\n",
    "Merging the titles and ratings data together to get the data of the movies which has an average ratings and genres information. Then merging the data with budget to get the data on movies with Gross Collection, Genre and Rating information in one dataset."
   ]
  },
  {
   "cell_type": "code",
   "execution_count": 16,
   "id": "5b238424",
   "metadata": {},
   "outputs": [],
   "source": [
    "df4 = pd.merge(title, rating, how=\"inner\", on=[\"tconst\"])"
   ]
  },
  {
   "cell_type": "code",
   "execution_count": 17,
   "id": "2d5d94ed",
   "metadata": {},
   "outputs": [],
   "source": [
    "df4.rename(columns={'primary_title': 'movie',\"start_year\":\"year\"}, inplace= True)"
   ]
  },
  {
   "cell_type": "code",
   "execution_count": 18,
   "id": "82cf4c20",
   "metadata": {},
   "outputs": [
    {
     "data": {
      "text/html": [
       "<div>\n",
       "<style scoped>\n",
       "    .dataframe tbody tr th:only-of-type {\n",
       "        vertical-align: middle;\n",
       "    }\n",
       "\n",
       "    .dataframe tbody tr th {\n",
       "        vertical-align: top;\n",
       "    }\n",
       "\n",
       "    .dataframe thead th {\n",
       "        text-align: right;\n",
       "    }\n",
       "</style>\n",
       "<table border=\"1\" class=\"dataframe\">\n",
       "  <thead>\n",
       "    <tr style=\"text-align: right;\">\n",
       "      <th></th>\n",
       "      <th>tconst</th>\n",
       "      <th>movie</th>\n",
       "      <th>original_title</th>\n",
       "      <th>year</th>\n",
       "      <th>runtime_minutes</th>\n",
       "      <th>genres</th>\n",
       "      <th>averagerating</th>\n",
       "      <th>numvotes</th>\n",
       "    </tr>\n",
       "  </thead>\n",
       "  <tbody>\n",
       "    <tr>\n",
       "      <th>0</th>\n",
       "      <td>tt0063540</td>\n",
       "      <td>Sunghursh</td>\n",
       "      <td>Sunghursh</td>\n",
       "      <td>2013</td>\n",
       "      <td>175.0</td>\n",
       "      <td>Action,Crime,Drama</td>\n",
       "      <td>7.0</td>\n",
       "      <td>77</td>\n",
       "    </tr>\n",
       "  </tbody>\n",
       "</table>\n",
       "</div>"
      ],
      "text/plain": [
       "      tconst      movie original_title  year  runtime_minutes  \\\n",
       "0  tt0063540  Sunghursh      Sunghursh  2013            175.0   \n",
       "\n",
       "               genres  averagerating  numvotes  \n",
       "0  Action,Crime,Drama            7.0        77  "
      ]
     },
     "execution_count": 18,
     "metadata": {},
     "output_type": "execute_result"
    }
   ],
   "source": [
    "df4.head(1)"
   ]
  },
  {
   "cell_type": "code",
   "execution_count": 19,
   "id": "a919fc2d",
   "metadata": {},
   "outputs": [
    {
     "data": {
      "text/plain": [
       "804"
      ]
     },
     "execution_count": 19,
     "metadata": {},
     "output_type": "execute_result"
    }
   ],
   "source": [
    "df4['genres'].isna().sum()"
   ]
  },
  {
   "cell_type": "code",
   "execution_count": 20,
   "id": "7a10e613",
   "metadata": {},
   "outputs": [],
   "source": [
    "#Dropping the rows which does not have the Genre info to find the complete set of data.\n",
    "df4.dropna(subset=['genres'], inplace=True)"
   ]
  },
  {
   "cell_type": "code",
   "execution_count": 21,
   "id": "15b9ac5c",
   "metadata": {},
   "outputs": [
    {
     "data": {
      "text/plain": [
       "tconst                0\n",
       "movie                 0\n",
       "original_title        0\n",
       "year                  0\n",
       "runtime_minutes    7332\n",
       "genres                0\n",
       "averagerating         0\n",
       "numvotes              0\n",
       "dtype: int64"
      ]
     },
     "execution_count": 21,
     "metadata": {},
     "output_type": "execute_result"
    }
   ],
   "source": [
    "df4.isna().sum()"
   ]
  },
  {
   "cell_type": "code",
   "execution_count": 22,
   "id": "621710d5",
   "metadata": {},
   "outputs": [],
   "source": [
    "# filling the runtime information with median values to prevent any data skewing.\n",
    "\n",
    "df4['runtime_minutes']=df4['runtime_minutes'].fillna(df4['runtime_minutes'].median())"
   ]
  },
  {
   "cell_type": "code",
   "execution_count": 25,
   "id": "cae74bc0",
   "metadata": {},
   "outputs": [
    {
     "data": {
      "text/html": [
       "<div>\n",
       "<style scoped>\n",
       "    .dataframe tbody tr th:only-of-type {\n",
       "        vertical-align: middle;\n",
       "    }\n",
       "\n",
       "    .dataframe tbody tr th {\n",
       "        vertical-align: top;\n",
       "    }\n",
       "\n",
       "    .dataframe thead th {\n",
       "        text-align: right;\n",
       "    }\n",
       "</style>\n",
       "<table border=\"1\" class=\"dataframe\">\n",
       "  <thead>\n",
       "    <tr style=\"text-align: right;\">\n",
       "      <th></th>\n",
       "      <th>year</th>\n",
       "      <th>runtime_minutes</th>\n",
       "      <th>averagerating</th>\n",
       "      <th>numvotes</th>\n",
       "    </tr>\n",
       "  </thead>\n",
       "  <tbody>\n",
       "    <tr>\n",
       "      <th>count</th>\n",
       "      <td>73052.000000</td>\n",
       "      <td>73052.000000</td>\n",
       "      <td>73052.000000</td>\n",
       "      <td>7.305200e+04</td>\n",
       "    </tr>\n",
       "    <tr>\n",
       "      <th>mean</th>\n",
       "      <td>2014.281430</td>\n",
       "      <td>94.357677</td>\n",
       "      <td>6.330930</td>\n",
       "      <td>3.562173e+03</td>\n",
       "    </tr>\n",
       "    <tr>\n",
       "      <th>std</th>\n",
       "      <td>2.615288</td>\n",
       "      <td>198.595006</td>\n",
       "      <td>1.474699</td>\n",
       "      <td>3.045804e+04</td>\n",
       "    </tr>\n",
       "    <tr>\n",
       "      <th>min</th>\n",
       "      <td>2010.000000</td>\n",
       "      <td>3.000000</td>\n",
       "      <td>1.000000</td>\n",
       "      <td>5.000000e+00</td>\n",
       "    </tr>\n",
       "    <tr>\n",
       "      <th>25%</th>\n",
       "      <td>2012.000000</td>\n",
       "      <td>83.000000</td>\n",
       "      <td>5.500000</td>\n",
       "      <td>1.400000e+01</td>\n",
       "    </tr>\n",
       "    <tr>\n",
       "      <th>50%</th>\n",
       "      <td>2014.000000</td>\n",
       "      <td>91.000000</td>\n",
       "      <td>6.500000</td>\n",
       "      <td>5.000000e+01</td>\n",
       "    </tr>\n",
       "    <tr>\n",
       "      <th>75%</th>\n",
       "      <td>2017.000000</td>\n",
       "      <td>102.000000</td>\n",
       "      <td>7.400000</td>\n",
       "      <td>2.890000e+02</td>\n",
       "    </tr>\n",
       "    <tr>\n",
       "      <th>max</th>\n",
       "      <td>2019.000000</td>\n",
       "      <td>51420.000000</td>\n",
       "      <td>10.000000</td>\n",
       "      <td>1.841066e+06</td>\n",
       "    </tr>\n",
       "  </tbody>\n",
       "</table>\n",
       "</div>"
      ],
      "text/plain": [
       "               year  runtime_minutes  averagerating      numvotes\n",
       "count  73052.000000     73052.000000   73052.000000  7.305200e+04\n",
       "mean    2014.281430        94.357677       6.330930  3.562173e+03\n",
       "std        2.615288       198.595006       1.474699  3.045804e+04\n",
       "min     2010.000000         3.000000       1.000000  5.000000e+00\n",
       "25%     2012.000000        83.000000       5.500000  1.400000e+01\n",
       "50%     2014.000000        91.000000       6.500000  5.000000e+01\n",
       "75%     2017.000000       102.000000       7.400000  2.890000e+02\n",
       "max     2019.000000     51420.000000      10.000000  1.841066e+06"
      ]
     },
     "execution_count": 25,
     "metadata": {},
     "output_type": "execute_result"
    }
   ],
   "source": [
    "df4.describe()"
   ]
  },
  {
   "cell_type": "code",
   "execution_count": 28,
   "id": "208e4262",
   "metadata": {},
   "outputs": [],
   "source": [
    "# merging the combined dataset with budget data to get the info on all the movie records where we have budget and gross collection information.\n",
    "\n",
    "movie_analysis_df = pd.merge(df4, budget, how=\"inner\", on=['movie'])\n"
   ]
  },
  {
   "cell_type": "code",
   "execution_count": 34,
   "id": "42c19609",
   "metadata": {},
   "outputs": [
    {
     "data": {
      "text/html": [
       "<div>\n",
       "<style scoped>\n",
       "    .dataframe tbody tr th:only-of-type {\n",
       "        vertical-align: middle;\n",
       "    }\n",
       "\n",
       "    .dataframe tbody tr th {\n",
       "        vertical-align: top;\n",
       "    }\n",
       "\n",
       "    .dataframe thead th {\n",
       "        text-align: right;\n",
       "    }\n",
       "</style>\n",
       "<table border=\"1\" class=\"dataframe\">\n",
       "  <thead>\n",
       "    <tr style=\"text-align: right;\">\n",
       "      <th></th>\n",
       "      <th>movie</th>\n",
       "      <th>runtime_minutes</th>\n",
       "      <th>genres</th>\n",
       "      <th>averagerating</th>\n",
       "      <th>numvotes</th>\n",
       "      <th>release_date</th>\n",
       "      <th>production_budget</th>\n",
       "      <th>domestic_gross</th>\n",
       "      <th>worldwide_gross</th>\n",
       "      <th>year_y</th>\n",
       "      <th>month</th>\n",
       "    </tr>\n",
       "  </thead>\n",
       "  <tbody>\n",
       "    <tr>\n",
       "      <th>0</th>\n",
       "      <td>Foodfight!</td>\n",
       "      <td>91.0</td>\n",
       "      <td>Action,Animation,Comedy</td>\n",
       "      <td>1.9</td>\n",
       "      <td>8248</td>\n",
       "      <td>2012-12-31</td>\n",
       "      <td>$45,000,000</td>\n",
       "      <td>$0</td>\n",
       "      <td>$73,706</td>\n",
       "      <td>2012</td>\n",
       "      <td>12</td>\n",
       "    </tr>\n",
       "  </tbody>\n",
       "</table>\n",
       "</div>"
      ],
      "text/plain": [
       "        movie  runtime_minutes                   genres  averagerating  \\\n",
       "0  Foodfight!             91.0  Action,Animation,Comedy            1.9   \n",
       "\n",
       "   numvotes release_date production_budget domestic_gross worldwide_gross  \\\n",
       "0      8248   2012-12-31       $45,000,000             $0         $73,706   \n",
       "\n",
       "  year_y month  \n",
       "0   2012    12  "
      ]
     },
     "execution_count": 34,
     "metadata": {},
     "output_type": "execute_result"
    }
   ],
   "source": [
    "#Changing the columns format to analyse the data\n",
    "\n",
    "movie_analysis_df.head(1)"
   ]
  },
  {
   "cell_type": "code",
   "execution_count": 35,
   "id": "dcddbfa8",
   "metadata": {},
   "outputs": [],
   "source": [
    "# Defining a function to remove currency symbol and delimiters from the string\n",
    "def clean_currency(x):\n",
    " \n",
    "    if isinstance(x, str):\n",
    "        return(x.replace('$', '').replace(',', ''))\n",
    "    return(x)"
   ]
  },
  {
   "cell_type": "code",
   "execution_count": null,
   "id": "61bc1b9a",
   "metadata": {},
   "outputs": [],
   "source": [
    "#changing the columns with $(currency), 1) removing the $ symbol and converting to Float to be able to apply maths functions\n",
    "\n",
    "movie_analysis_df['production_budget'] = movie_analysis_df['production_budget'].apply(clean_currency).astype('float')\n",
    "movie_analysis_df['domestic_gross'] = movie_analysis_df['domestic_gross'].apply(clean_currency).astype('float')\n",
    "movie_analysis_df['worldwide_gross'] = movie_analysis_df['worldwide_gross'].apply(clean_currency).astype('float')\n",
    "\n",
    "# adding the Gross Profit Worldwide columns \n",
    "\n",
    "movie_analysis_df['GP_ww']=movie_analysis_df[\"worldwide_gross\"] - movie_analysis_df[\"production_budget\"].round(2)\n",
    "\n",
    "#to convert scientific notations back to float\n",
    "pd.options.display.float_format = '{:.0f}'.format\n"
   ]
  },
  {
   "cell_type": "code",
   "execution_count": 38,
   "id": "479fe726",
   "metadata": {},
   "outputs": [],
   "source": [
    "#adding a column Release Month from the Release Date\n",
    "\n",
    "movie_analysis_df['release_month'] = pd.to_datetime(movie_analysis_df['release_date'], format='%m').dt.month_name().str.slice(stop=3)"
   ]
  },
  {
   "cell_type": "code",
   "execution_count": 56,
   "id": "cd2cfa54",
   "metadata": {},
   "outputs": [
    {
     "data": {
      "text/html": [
       "<div>\n",
       "<style scoped>\n",
       "    .dataframe tbody tr th:only-of-type {\n",
       "        vertical-align: middle;\n",
       "    }\n",
       "\n",
       "    .dataframe tbody tr th {\n",
       "        vertical-align: top;\n",
       "    }\n",
       "\n",
       "    .dataframe thead th {\n",
       "        text-align: right;\n",
       "    }\n",
       "</style>\n",
       "<table border=\"1\" class=\"dataframe\">\n",
       "  <thead>\n",
       "    <tr style=\"text-align: right;\">\n",
       "      <th></th>\n",
       "      <th>movie</th>\n",
       "      <th>runtime_minutes</th>\n",
       "      <th>genres</th>\n",
       "      <th>averagerating</th>\n",
       "      <th>numvotes</th>\n",
       "      <th>release_date</th>\n",
       "      <th>production_budget</th>\n",
       "      <th>domestic_gross</th>\n",
       "      <th>worldwide_gross</th>\n",
       "      <th>year_y</th>\n",
       "      <th>month</th>\n",
       "      <th>GP_ww</th>\n",
       "      <th>release_month</th>\n",
       "      <th>release_year</th>\n",
       "    </tr>\n",
       "  </thead>\n",
       "  <tbody>\n",
       "    <tr>\n",
       "      <th>0</th>\n",
       "      <td>Foodfight!</td>\n",
       "      <td>91</td>\n",
       "      <td>Action</td>\n",
       "      <td>2</td>\n",
       "      <td>8248</td>\n",
       "      <td>2012-12-31</td>\n",
       "      <td>45000000</td>\n",
       "      <td>0</td>\n",
       "      <td>73706</td>\n",
       "      <td>2012</td>\n",
       "      <td>12</td>\n",
       "      <td>-44926294</td>\n",
       "      <td>Dec</td>\n",
       "      <td>2012</td>\n",
       "    </tr>\n",
       "  </tbody>\n",
       "</table>\n",
       "</div>"
      ],
      "text/plain": [
       "        movie  runtime_minutes  genres  averagerating  numvotes release_date  \\\n",
       "0  Foodfight!               91  Action              2      8248   2012-12-31   \n",
       "\n",
       "   production_budget  domestic_gross  worldwide_gross year_y month     GP_ww  \\\n",
       "0           45000000               0            73706   2012    12 -44926294   \n",
       "\n",
       "  release_month release_year  \n",
       "0           Dec         2012  "
      ]
     },
     "execution_count": 56,
     "metadata": {},
     "output_type": "execute_result"
    }
   ],
   "source": [
    "movie_analysis_df.head(1)"
   ]
  },
  {
   "cell_type": "code",
   "execution_count": 55,
   "id": "818419ec",
   "metadata": {},
   "outputs": [],
   "source": [
    "movie_analysis_df['release_year'] = movie_analysis_df['release_date'].apply(lambda x: str(x.year))"
   ]
  },
  {
   "cell_type": "code",
   "execution_count": 40,
   "id": "8c381b55",
   "metadata": {},
   "outputs": [],
   "source": [
    "# spliting the column genre values into seperate rows for the purpose of analyses on genre.\n",
    "\n",
    "\n",
    "movie_analysis_df=movie_analysis_df.assign(genres=movie_analysis_df.genres.str.split(\",\")).explode('genres')"
   ]
  },
  {
   "cell_type": "code",
   "execution_count": 58,
   "id": "9046d093",
   "metadata": {},
   "outputs": [
    {
     "name": "stdout",
     "output_type": "stream",
     "text": [
      "<class 'pandas.core.frame.DataFrame'>\n",
      "Int64Index: 6444 entries, 0 to 2866\n",
      "Data columns (total 14 columns):\n",
      " #   Column             Non-Null Count  Dtype         \n",
      "---  ------             --------------  -----         \n",
      " 0   movie              6444 non-null   object        \n",
      " 1   runtime_minutes    6444 non-null   float64       \n",
      " 2   genres             6444 non-null   object        \n",
      " 3   averagerating      6444 non-null   float64       \n",
      " 4   numvotes           6444 non-null   int64         \n",
      " 5   release_date       6444 non-null   datetime64[ns]\n",
      " 6   production_budget  6444 non-null   float64       \n",
      " 7   domestic_gross     6444 non-null   float64       \n",
      " 8   worldwide_gross    6444 non-null   float64       \n",
      " 9   year_y             6444 non-null   object        \n",
      " 10  month              6444 non-null   object        \n",
      " 11  GP_ww              6444 non-null   float64       \n",
      " 12  release_month      6444 non-null   object        \n",
      " 13  release_year       6444 non-null   object        \n",
      "dtypes: datetime64[ns](1), float64(6), int64(1), object(6)\n",
      "memory usage: 755.2+ KB\n"
     ]
    }
   ],
   "source": [
    "#Now our merged data is ready for analysis.\n",
    "\n",
    "movie_analysis_df.info()"
   ]
  },
  {
   "cell_type": "code",
   "execution_count": 57,
   "id": "b68faa7a",
   "metadata": {},
   "outputs": [
    {
     "data": {
      "text/html": [
       "<div>\n",
       "<style scoped>\n",
       "    .dataframe tbody tr th:only-of-type {\n",
       "        vertical-align: middle;\n",
       "    }\n",
       "\n",
       "    .dataframe tbody tr th {\n",
       "        vertical-align: top;\n",
       "    }\n",
       "\n",
       "    .dataframe thead th {\n",
       "        text-align: right;\n",
       "    }\n",
       "</style>\n",
       "<table border=\"1\" class=\"dataframe\">\n",
       "  <thead>\n",
       "    <tr style=\"text-align: right;\">\n",
       "      <th></th>\n",
       "      <th>runtime_minutes</th>\n",
       "      <th>averagerating</th>\n",
       "      <th>numvotes</th>\n",
       "      <th>production_budget</th>\n",
       "      <th>domestic_gross</th>\n",
       "      <th>worldwide_gross</th>\n",
       "      <th>GP_ww</th>\n",
       "    </tr>\n",
       "  </thead>\n",
       "  <tbody>\n",
       "    <tr>\n",
       "      <th>count</th>\n",
       "      <td>6444</td>\n",
       "      <td>6444</td>\n",
       "      <td>6444</td>\n",
       "      <td>6444</td>\n",
       "      <td>6444</td>\n",
       "      <td>6444</td>\n",
       "      <td>6444</td>\n",
       "    </tr>\n",
       "    <tr>\n",
       "      <th>mean</th>\n",
       "      <td>104</td>\n",
       "      <td>6</td>\n",
       "      <td>80625</td>\n",
       "      <td>38200659</td>\n",
       "      <td>47572291</td>\n",
       "      <td>116463879</td>\n",
       "      <td>78263220</td>\n",
       "    </tr>\n",
       "    <tr>\n",
       "      <th>std</th>\n",
       "      <td>20</td>\n",
       "      <td>1</td>\n",
       "      <td>145579</td>\n",
       "      <td>51071054</td>\n",
       "      <td>79441529</td>\n",
       "      <td>216103596</td>\n",
       "      <td>179212669</td>\n",
       "    </tr>\n",
       "    <tr>\n",
       "      <th>min</th>\n",
       "      <td>3</td>\n",
       "      <td>2</td>\n",
       "      <td>5</td>\n",
       "      <td>1400</td>\n",
       "      <td>0</td>\n",
       "      <td>0</td>\n",
       "      <td>-200237650</td>\n",
       "    </tr>\n",
       "    <tr>\n",
       "      <th>25%</th>\n",
       "      <td>91</td>\n",
       "      <td>6</td>\n",
       "      <td>586</td>\n",
       "      <td>5000000</td>\n",
       "      <td>702594</td>\n",
       "      <td>3266052</td>\n",
       "      <td>-2300000</td>\n",
       "    </tr>\n",
       "    <tr>\n",
       "      <th>50%</th>\n",
       "      <td>102</td>\n",
       "      <td>6</td>\n",
       "      <td>21340</td>\n",
       "      <td>19500000</td>\n",
       "      <td>19487173</td>\n",
       "      <td>36146087</td>\n",
       "      <td>12938359</td>\n",
       "    </tr>\n",
       "    <tr>\n",
       "      <th>75%</th>\n",
       "      <td>115</td>\n",
       "      <td>7</td>\n",
       "      <td>93868</td>\n",
       "      <td>48000000</td>\n",
       "      <td>56445148</td>\n",
       "      <td>118763442</td>\n",
       "      <td>73417762</td>\n",
       "    </tr>\n",
       "    <tr>\n",
       "      <th>max</th>\n",
       "      <td>280</td>\n",
       "      <td>9</td>\n",
       "      <td>1841066</td>\n",
       "      <td>425000000</td>\n",
       "      <td>760507625</td>\n",
       "      <td>2776345279</td>\n",
       "      <td>2351345279</td>\n",
       "    </tr>\n",
       "  </tbody>\n",
       "</table>\n",
       "</div>"
      ],
      "text/plain": [
       "       runtime_minutes  averagerating  numvotes  production_budget  \\\n",
       "count             6444           6444      6444               6444   \n",
       "mean               104              6     80625           38200659   \n",
       "std                 20              1    145579           51071054   \n",
       "min                  3              2         5               1400   \n",
       "25%                 91              6       586            5000000   \n",
       "50%                102              6     21340           19500000   \n",
       "75%                115              7     93868           48000000   \n",
       "max                280              9   1841066          425000000   \n",
       "\n",
       "       domestic_gross  worldwide_gross      GP_ww  \n",
       "count            6444             6444       6444  \n",
       "mean         47572291        116463879   78263220  \n",
       "std          79441529        216103596  179212669  \n",
       "min                 0                0 -200237650  \n",
       "25%            702594          3266052   -2300000  \n",
       "50%          19487173         36146087   12938359  \n",
       "75%          56445148        118763442   73417762  \n",
       "max         760507625       2776345279 2351345279  "
      ]
     },
     "execution_count": 57,
     "metadata": {},
     "output_type": "execute_result"
    }
   ],
   "source": [
    "movie_analysis_df.describe()"
   ]
  },
  {
   "cell_type": "markdown",
   "id": "8db40d5e",
   "metadata": {},
   "source": [
    "# Data Analysis"
   ]
  },
  {
   "cell_type": "markdown",
   "id": "a52814a3",
   "metadata": {},
   "source": [
    "# Top genres with highest Worldwide Gross Profits.\n",
    "\n",
    "Lets have a look at the genres with highest Worldwide Gross profit collection. "
   ]
  },
  {
   "cell_type": "code",
   "execution_count": 123,
   "id": "37857ac0",
   "metadata": {},
   "outputs": [
    {
     "data": {
      "text/html": [
       "<div>\n",
       "<style scoped>\n",
       "    .dataframe tbody tr th:only-of-type {\n",
       "        vertical-align: middle;\n",
       "    }\n",
       "\n",
       "    .dataframe tbody tr th {\n",
       "        vertical-align: top;\n",
       "    }\n",
       "\n",
       "    .dataframe thead th {\n",
       "        text-align: right;\n",
       "    }\n",
       "</style>\n",
       "<table border=\"1\" class=\"dataframe\">\n",
       "  <thead>\n",
       "    <tr style=\"text-align: right;\">\n",
       "      <th></th>\n",
       "      <th>movie</th>\n",
       "      <th>runtime_minutes</th>\n",
       "      <th>genres</th>\n",
       "      <th>averagerating</th>\n",
       "      <th>numvotes</th>\n",
       "      <th>release_date</th>\n",
       "      <th>production_budget</th>\n",
       "      <th>domestic_gross</th>\n",
       "      <th>worldwide_gross</th>\n",
       "      <th>year_y</th>\n",
       "      <th>month</th>\n",
       "      <th>GP_ww</th>\n",
       "      <th>release_month</th>\n",
       "      <th>release_year</th>\n",
       "      <th>movie_length</th>\n",
       "    </tr>\n",
       "  </thead>\n",
       "  <tbody>\n",
       "    <tr>\n",
       "      <th>0</th>\n",
       "      <td>Foodfight!</td>\n",
       "      <td>91</td>\n",
       "      <td>Action</td>\n",
       "      <td>2</td>\n",
       "      <td>8248</td>\n",
       "      <td>2012-12-31</td>\n",
       "      <td>45000000</td>\n",
       "      <td>0</td>\n",
       "      <td>73706</td>\n",
       "      <td>2012</td>\n",
       "      <td>12</td>\n",
       "      <td>-44926294</td>\n",
       "      <td>Dec</td>\n",
       "      <td>2012</td>\n",
       "      <td>Short</td>\n",
       "    </tr>\n",
       "    <tr>\n",
       "      <th>0</th>\n",
       "      <td>Foodfight!</td>\n",
       "      <td>91</td>\n",
       "      <td>Animation</td>\n",
       "      <td>2</td>\n",
       "      <td>8248</td>\n",
       "      <td>2012-12-31</td>\n",
       "      <td>45000000</td>\n",
       "      <td>0</td>\n",
       "      <td>73706</td>\n",
       "      <td>2012</td>\n",
       "      <td>12</td>\n",
       "      <td>-44926294</td>\n",
       "      <td>Dec</td>\n",
       "      <td>2012</td>\n",
       "      <td>Short</td>\n",
       "    </tr>\n",
       "  </tbody>\n",
       "</table>\n",
       "</div>"
      ],
      "text/plain": [
       "        movie  runtime_minutes     genres  averagerating  numvotes  \\\n",
       "0  Foodfight!               91     Action              2      8248   \n",
       "0  Foodfight!               91  Animation              2      8248   \n",
       "\n",
       "  release_date  production_budget  domestic_gross  worldwide_gross year_y  \\\n",
       "0   2012-12-31           45000000               0            73706   2012   \n",
       "0   2012-12-31           45000000               0            73706   2012   \n",
       "\n",
       "  month     GP_ww release_month release_year movie_length  \n",
       "0    12 -44926294           Dec         2012        Short  \n",
       "0    12 -44926294           Dec         2012        Short  "
      ]
     },
     "execution_count": 123,
     "metadata": {},
     "output_type": "execute_result"
    }
   ],
   "source": [
    "moviedf=movie_analysis_df\n",
    "moviedf.head(2)"
   ]
  },
  {
   "cell_type": "code",
   "execution_count": 68,
   "id": "74f273b7",
   "metadata": {},
   "outputs": [
    {
     "data": {
      "text/plain": [
       "genres\n",
       "Animation   231740220\n",
       "Adventure   208682977\n",
       "Sci-Fi      175396180\n",
       "Fantasy     145929293\n",
       "Musical     138308584\n",
       "Name: GP_ww, dtype: float64"
      ]
     },
     "execution_count": 68,
     "metadata": {},
     "output_type": "execute_result"
    }
   ],
   "source": [
    "top_genre=moviedf.groupby(['genres']).GP_ww.mean().sort_values(ascending=False)\n",
    "top_genre.head(5)"
   ]
  },
  {
   "cell_type": "code",
   "execution_count": 124,
   "id": "95c2b5fb",
   "metadata": {},
   "outputs": [
    {
     "data": {
      "image/png": "[encoded data removed]",
      "text/plain": [
       "<Figure size 720x720 with 1 Axes>"
      ]
     },
     "metadata": {
      "needs_background": "light"
     },
     "output_type": "display_data"
    }
   ],
   "source": [
    "#Create Plot\n",
    "ax=top_genre.plot(kind='bar',figsize=(10,10),title=\"Genres and Worldwide Gross Profits \",legend=True, color='darkorange')\n",
    "\n",
    "#set titles for x-axis\n",
    "ax.set_xlabel(\"Movie Genre\")\n",
    "#set title for y-axis\n",
    "ax.set_ylabel(\"Average Worldwide Gross Profit in Millions\")\n",
    "#placing the legend to avoid overlap\n",
    "plt.legend([\"Average Worldwide Gross Profit in Millions\"],loc=\"upper right\")\n",
    "\n",
    "plt.savefig(\"./images/Movie_genre.png\", dpi=150)\n",
    "plt.show()\n"
   ]
  },
  {
   "cell_type": "markdown",
   "id": "e1fc2ad3",
   "metadata": {},
   "source": [
    "# Movie length with highest gross profits and highest average ratings\n",
    "\n",
    "Lets have a look at the runtime of the movies and compare this with the Gross Profit Collection and average ratings."
   ]
  },
  {
   "cell_type": "code",
   "execution_count": 82,
   "id": "0aa8cf63",
   "metadata": {},
   "outputs": [],
   "source": [
    "'''This function takes in a number of minutes and returns a descriptive string. \n",
    "    This is used to categorize movie length for further analysis.\n",
    "    \n",
    "    Less than 106 minutes: 'Short'\n",
    "    106 to 139 minutes: 'Medium'\n",
    "    More than 139 minutes: 'Long'\n",
    " '''\n",
    "    \n",
    "    \n",
    "def runtime(minutes):\n",
    "  \n",
    "    if (minutes < 106):\n",
    "        return 'Short'\n",
    "    elif (minutes > 139):\n",
    "        return 'Long'\n",
    "    else:\n",
    "        return 'Medium'"
   ]
  },
  {
   "cell_type": "code",
   "execution_count": 83,
   "id": "29287bb6",
   "metadata": {},
   "outputs": [
    {
     "data": {
      "text/html": [
       "<div>\n",
       "<style scoped>\n",
       "    .dataframe tbody tr th:only-of-type {\n",
       "        vertical-align: middle;\n",
       "    }\n",
       "\n",
       "    .dataframe tbody tr th {\n",
       "        vertical-align: top;\n",
       "    }\n",
       "\n",
       "    .dataframe thead th {\n",
       "        text-align: right;\n",
       "    }\n",
       "</style>\n",
       "<table border=\"1\" class=\"dataframe\">\n",
       "  <thead>\n",
       "    <tr style=\"text-align: right;\">\n",
       "      <th></th>\n",
       "      <th>movie</th>\n",
       "      <th>runtime_minutes</th>\n",
       "      <th>genres</th>\n",
       "      <th>averagerating</th>\n",
       "      <th>numvotes</th>\n",
       "      <th>release_date</th>\n",
       "      <th>production_budget</th>\n",
       "      <th>domestic_gross</th>\n",
       "      <th>worldwide_gross</th>\n",
       "      <th>year_y</th>\n",
       "      <th>month</th>\n",
       "      <th>GP_ww</th>\n",
       "      <th>release_month</th>\n",
       "      <th>release_year</th>\n",
       "      <th>movie_length</th>\n",
       "    </tr>\n",
       "  </thead>\n",
       "  <tbody>\n",
       "    <tr>\n",
       "      <th>0</th>\n",
       "      <td>Foodfight!</td>\n",
       "      <td>91</td>\n",
       "      <td>Action</td>\n",
       "      <td>2</td>\n",
       "      <td>8248</td>\n",
       "      <td>2012-12-31</td>\n",
       "      <td>45000000</td>\n",
       "      <td>0</td>\n",
       "      <td>73706</td>\n",
       "      <td>2012</td>\n",
       "      <td>12</td>\n",
       "      <td>-44926294</td>\n",
       "      <td>Dec</td>\n",
       "      <td>2012</td>\n",
       "      <td>Short</td>\n",
       "    </tr>\n",
       "    <tr>\n",
       "      <th>0</th>\n",
       "      <td>Foodfight!</td>\n",
       "      <td>91</td>\n",
       "      <td>Animation</td>\n",
       "      <td>2</td>\n",
       "      <td>8248</td>\n",
       "      <td>2012-12-31</td>\n",
       "      <td>45000000</td>\n",
       "      <td>0</td>\n",
       "      <td>73706</td>\n",
       "      <td>2012</td>\n",
       "      <td>12</td>\n",
       "      <td>-44926294</td>\n",
       "      <td>Dec</td>\n",
       "      <td>2012</td>\n",
       "      <td>Short</td>\n",
       "    </tr>\n",
       "    <tr>\n",
       "      <th>0</th>\n",
       "      <td>Foodfight!</td>\n",
       "      <td>91</td>\n",
       "      <td>Comedy</td>\n",
       "      <td>2</td>\n",
       "      <td>8248</td>\n",
       "      <td>2012-12-31</td>\n",
       "      <td>45000000</td>\n",
       "      <td>0</td>\n",
       "      <td>73706</td>\n",
       "      <td>2012</td>\n",
       "      <td>12</td>\n",
       "      <td>-44926294</td>\n",
       "      <td>Dec</td>\n",
       "      <td>2012</td>\n",
       "      <td>Short</td>\n",
       "    </tr>\n",
       "    <tr>\n",
       "      <th>1</th>\n",
       "      <td>On the Road</td>\n",
       "      <td>124</td>\n",
       "      <td>Adventure</td>\n",
       "      <td>6</td>\n",
       "      <td>37886</td>\n",
       "      <td>2013-03-22</td>\n",
       "      <td>25000000</td>\n",
       "      <td>720828</td>\n",
       "      <td>9313302</td>\n",
       "      <td>2013</td>\n",
       "      <td>3</td>\n",
       "      <td>-15686698</td>\n",
       "      <td>Mar</td>\n",
       "      <td>2013</td>\n",
       "      <td>Medium</td>\n",
       "    </tr>\n",
       "    <tr>\n",
       "      <th>1</th>\n",
       "      <td>On the Road</td>\n",
       "      <td>124</td>\n",
       "      <td>Drama</td>\n",
       "      <td>6</td>\n",
       "      <td>37886</td>\n",
       "      <td>2013-03-22</td>\n",
       "      <td>25000000</td>\n",
       "      <td>720828</td>\n",
       "      <td>9313302</td>\n",
       "      <td>2013</td>\n",
       "      <td>3</td>\n",
       "      <td>-15686698</td>\n",
       "      <td>Mar</td>\n",
       "      <td>2013</td>\n",
       "      <td>Medium</td>\n",
       "    </tr>\n",
       "    <tr>\n",
       "      <th>...</th>\n",
       "      <td>...</td>\n",
       "      <td>...</td>\n",
       "      <td>...</td>\n",
       "      <td>...</td>\n",
       "      <td>...</td>\n",
       "      <td>...</td>\n",
       "      <td>...</td>\n",
       "      <td>...</td>\n",
       "      <td>...</td>\n",
       "      <td>...</td>\n",
       "      <td>...</td>\n",
       "      <td>...</td>\n",
       "      <td>...</td>\n",
       "      <td>...</td>\n",
       "      <td>...</td>\n",
       "    </tr>\n",
       "    <tr>\n",
       "      <th>2863</th>\n",
       "      <td>Heroes</td>\n",
       "      <td>88</td>\n",
       "      <td>Documentary</td>\n",
       "      <td>7</td>\n",
       "      <td>7</td>\n",
       "      <td>2008-10-24</td>\n",
       "      <td>400000</td>\n",
       "      <td>655538</td>\n",
       "      <td>655538</td>\n",
       "      <td>2008</td>\n",
       "      <td>10</td>\n",
       "      <td>255538</td>\n",
       "      <td>Oct</td>\n",
       "      <td>2008</td>\n",
       "      <td>Short</td>\n",
       "    </tr>\n",
       "    <tr>\n",
       "      <th>2864</th>\n",
       "      <td>Push</td>\n",
       "      <td>92</td>\n",
       "      <td>Documentary</td>\n",
       "      <td>7</td>\n",
       "      <td>33</td>\n",
       "      <td>2009-02-06</td>\n",
       "      <td>38000000</td>\n",
       "      <td>31811527</td>\n",
       "      <td>49678401</td>\n",
       "      <td>2009</td>\n",
       "      <td>2</td>\n",
       "      <td>11678401</td>\n",
       "      <td>Feb</td>\n",
       "      <td>2009</td>\n",
       "      <td>Short</td>\n",
       "    </tr>\n",
       "    <tr>\n",
       "      <th>2865</th>\n",
       "      <td>Unplanned</td>\n",
       "      <td>106</td>\n",
       "      <td>Biography</td>\n",
       "      <td>6</td>\n",
       "      <td>5945</td>\n",
       "      <td>2019-03-29</td>\n",
       "      <td>6000000</td>\n",
       "      <td>18107621</td>\n",
       "      <td>18107621</td>\n",
       "      <td>2019</td>\n",
       "      <td>3</td>\n",
       "      <td>12107621</td>\n",
       "      <td>Mar</td>\n",
       "      <td>2019</td>\n",
       "      <td>Medium</td>\n",
       "    </tr>\n",
       "    <tr>\n",
       "      <th>2865</th>\n",
       "      <td>Unplanned</td>\n",
       "      <td>106</td>\n",
       "      <td>Drama</td>\n",
       "      <td>6</td>\n",
       "      <td>5945</td>\n",
       "      <td>2019-03-29</td>\n",
       "      <td>6000000</td>\n",
       "      <td>18107621</td>\n",
       "      <td>18107621</td>\n",
       "      <td>2019</td>\n",
       "      <td>3</td>\n",
       "      <td>12107621</td>\n",
       "      <td>Mar</td>\n",
       "      <td>2019</td>\n",
       "      <td>Medium</td>\n",
       "    </tr>\n",
       "    <tr>\n",
       "      <th>2866</th>\n",
       "      <td>The Terrorist</td>\n",
       "      <td>91</td>\n",
       "      <td>Thriller</td>\n",
       "      <td>6</td>\n",
       "      <td>6</td>\n",
       "      <td>2000-01-14</td>\n",
       "      <td>25000</td>\n",
       "      <td>195043</td>\n",
       "      <td>195043</td>\n",
       "      <td>2000</td>\n",
       "      <td>1</td>\n",
       "      <td>170043</td>\n",
       "      <td>Jan</td>\n",
       "      <td>2000</td>\n",
       "      <td>Short</td>\n",
       "    </tr>\n",
       "  </tbody>\n",
       "</table>\n",
       "<p>6444 rows × 15 columns</p>\n",
       "</div>"
      ],
      "text/plain": [
       "              movie  runtime_minutes       genres  averagerating  numvotes  \\\n",
       "0        Foodfight!               91       Action              2      8248   \n",
       "0        Foodfight!               91    Animation              2      8248   \n",
       "0        Foodfight!               91       Comedy              2      8248   \n",
       "1       On the Road              124    Adventure              6     37886   \n",
       "1       On the Road              124        Drama              6     37886   \n",
       "...             ...              ...          ...            ...       ...   \n",
       "2863         Heroes               88  Documentary              7         7   \n",
       "2864           Push               92  Documentary              7        33   \n",
       "2865      Unplanned              106    Biography              6      5945   \n",
       "2865      Unplanned              106        Drama              6      5945   \n",
       "2866  The Terrorist               91     Thriller              6         6   \n",
       "\n",
       "     release_date  production_budget  domestic_gross  worldwide_gross year_y  \\\n",
       "0      2012-12-31           45000000               0            73706   2012   \n",
       "0      2012-12-31           45000000               0            73706   2012   \n",
       "0      2012-12-31           45000000               0            73706   2012   \n",
       "1      2013-03-22           25000000          720828          9313302   2013   \n",
       "1      2013-03-22           25000000          720828          9313302   2013   \n",
       "...           ...                ...             ...              ...    ...   \n",
       "2863   2008-10-24             400000          655538           655538   2008   \n",
       "2864   2009-02-06           38000000        31811527         49678401   2009   \n",
       "2865   2019-03-29            6000000        18107621         18107621   2019   \n",
       "2865   2019-03-29            6000000        18107621         18107621   2019   \n",
       "2866   2000-01-14              25000          195043           195043   2000   \n",
       "\n",
       "     month     GP_ww release_month release_year movie_length  \n",
       "0       12 -44926294           Dec         2012        Short  \n",
       "0       12 -44926294           Dec         2012        Short  \n",
       "0       12 -44926294           Dec         2012        Short  \n",
       "1        3 -15686698           Mar         2013       Medium  \n",
       "1        3 -15686698           Mar         2013       Medium  \n",
       "...    ...       ...           ...          ...          ...  \n",
       "2863    10    255538           Oct         2008        Short  \n",
       "2864     2  11678401           Feb         2009        Short  \n",
       "2865     3  12107621           Mar         2019       Medium  \n",
       "2865     3  12107621           Mar         2019       Medium  \n",
       "2866     1    170043           Jan         2000        Short  \n",
       "\n",
       "[6444 rows x 15 columns]"
      ]
     },
     "execution_count": 83,
     "metadata": {},
     "output_type": "execute_result"
    }
   ],
   "source": [
    "movie_analysis_df['movie_length']=movie_analysis_df['runtime_minutes'].apply(runtime)\n",
    "\n",
    "movie_analysis_df"
   ]
  },
  {
   "cell_type": "code",
   "execution_count": 84,
   "id": "c506fc6d",
   "metadata": {},
   "outputs": [
    {
     "data": {
      "text/plain": [
       "movie_length\n",
       "Long     219767345\n",
       "Medium    97511647\n",
       "Short     53364225\n",
       "Name: GP_ww, dtype: float64"
      ]
     },
     "execution_count": 84,
     "metadata": {},
     "output_type": "execute_result"
    }
   ],
   "source": [
    "movie_length_pref=movie_analysis_df.groupby(['movie_length']).GP_ww.mean().sort_values(ascending=False)\n",
    "movie_length_pref"
   ]
  },
  {
   "cell_type": "code",
   "execution_count": 100,
   "id": "57b7aa26",
   "metadata": {},
   "outputs": [
    {
     "data": {
      "image/png": "[encoded data removed]",
      "text/plain": [
       "<Figure size 720x720 with 1 Axes>"
      ]
     },
     "metadata": {
      "needs_background": "light"
     },
     "output_type": "display_data"
    }
   ],
   "source": [
    "#Create Plot\n",
    "ax=movie_length_pref.plot(kind='bar',figsize=(10,10),title=\"Movie length impact on Worldwide Gross Profits \",legend=True, color='mediumorchid')\n",
    "\n",
    "#set titles for x-axis\n",
    "ax.set_xlabel(\"Movie Length\")\n",
    "#set title for y-axis\n",
    "ax.set_ylabel(\"Average Worldwide Gross Profit in Millions\")\n",
    "#placing the legend to avoid overlap\n",
    "plt.legend([\"Average Worldwide Gross Profit in Millions\"],loc=\"upper right\")\n",
    "\n",
    "\n",
    "plt.show()"
   ]
  },
  {
   "cell_type": "code",
   "execution_count": 88,
   "id": "ee304447",
   "metadata": {},
   "outputs": [
    {
     "data": {
      "text/plain": [
       "movie_length\n",
       "Long     7\n",
       "Medium   7\n",
       "Short    6\n",
       "Name: averagerating, dtype: float64"
      ]
     },
     "execution_count": 88,
     "metadata": {},
     "output_type": "execute_result"
    }
   ],
   "source": [
    "runtime_pref1=moviedf.groupby(['movie_length']).averagerating.mean().sort_values(ascending=False)\n",
    "runtime_pref1"
   ]
  },
  {
   "cell_type": "code",
   "execution_count": 106,
   "id": "88b5631d",
   "metadata": {},
   "outputs": [
    {
     "data": {
      "image/png": "[encoded data removed]",
      "text/plain": [
       "<Figure size 720x720 with 1 Axes>"
      ]
     },
     "metadata": {
      "needs_background": "light"
     },
     "output_type": "display_data"
    }
   ],
   "source": [
    "#Create Plot\n",
    "ax=runtime_pref1.plot(kind='bar',figsize=(10,10),title=\"Runtime and Average Rating\",legend=True,color='violet')\n",
    "\n",
    "#set titles for x-axis\n",
    "ax.set_xlabel(\"Movie length\")\n",
    "#set title for y-axis\n",
    "ax.set_ylabel(\"Average Rating\")\n",
    "#placing the legend to avoid overlap\n",
    "plt.legend([\"Average Rating\"],loc=\"upper right\")\n",
    "plt.ylim(5,7.5)\n",
    "\n",
    "plt.show()"
   ]
  },
  {
   "cell_type": "markdown",
   "id": "3e564ad2",
   "metadata": {},
   "source": [
    "# Release months with highest gross profits and highest average ratings\n",
    "Lets analyse to find the performance of the movies as per release months."
   ]
  },
  {
   "cell_type": "code",
   "execution_count": 93,
   "id": "3e04999a",
   "metadata": {},
   "outputs": [
    {
     "data": {
      "text/plain": [
       "release_month\n",
       "Jun   138572886\n",
       "May   124880068\n",
       "Nov   121819436\n",
       "Jul   112080905\n",
       "Mar    91688855\n",
       "Dec    69566837\n",
       "Feb    65177361\n",
       "Apr    64990539\n",
       "Jan    44393130\n",
       "Aug    43152799\n",
       "Oct    42702427\n",
       "Sep    32486404\n",
       "Name: GP_ww, dtype: float64"
      ]
     },
     "execution_count": 93,
     "metadata": {},
     "output_type": "execute_result"
    }
   ],
   "source": [
    "release_month=movie_analysis_df.groupby(['release_month']).GP_ww.mean().sort_values(ascending=False)\n",
    "release_month"
   ]
  },
  {
   "cell_type": "code",
   "execution_count": 114,
   "id": "0731b614",
   "metadata": {},
   "outputs": [
    {
     "data": {
      "image/png": "[encoded data removed]",
      "text/plain": [
       "<Figure size 720x720 with 1 Axes>"
      ]
     },
     "metadata": {
      "needs_background": "light"
     },
     "output_type": "display_data"
    }
   ],
   "source": [
    "#Create Plot\n",
    "ax=release_month.plot(kind='bar',figsize=(10,10),title=\"Release months vs Worldwide Gross Profits \",legend=True,color='teal')\n",
    "\n",
    "#set titles for x-axis\n",
    "ax.set_xlabel(\"Months\")\n",
    "#set title for y-axis\n",
    "ax.set_ylabel(\"Average Worldwide Gross Profit in Millons\")\n",
    "#placing the legend to avoid overlap\n",
    "plt.legend([\"Average Worldwide Gross Profit in Millions\"], loc=1, prop={'size': 12})\n",
    "\n",
    "\n",
    "plt.show()"
   ]
  },
  {
   "cell_type": "code",
   "execution_count": 108,
   "id": "581adff4",
   "metadata": {},
   "outputs": [
    {
     "data": {
      "text/plain": [
       "release_month\n",
       "Nov   7\n",
       "Jun   6\n",
       "May   6\n",
       "Jul   6\n",
       "Oct   6\n",
       "Mar   6\n",
       "Dec   6\n",
       "Apr   6\n",
       "Sep   6\n",
       "Aug   6\n",
       "Feb   6\n",
       "Jan   6\n",
       "Name: averagerating, dtype: float64"
      ]
     },
     "execution_count": 108,
     "metadata": {},
     "output_type": "execute_result"
    }
   ],
   "source": [
    "release_month1=movie_analysis_df.groupby(['release_month']).averagerating.mean().sort_values(ascending=False)\n",
    "release_month1"
   ]
  },
  {
   "cell_type": "code",
   "execution_count": 128,
   "id": "36c80253",
   "metadata": {},
   "outputs": [
    {
     "data": {
      "image/png": "[encoded data removed]",
      "text/plain": [
       "<Figure size 720x720 with 1 Axes>"
      ]
     },
     "metadata": {
      "needs_background": "light"
     },
     "output_type": "display_data"
    }
   ],
   "source": [
    "#Create Plot\n",
    "ax=release_month1.plot(kind='bar',figsize=(10,10),title=\"Release months and Average Rating \",legend=True, color='turquoise')\n",
    "\n",
    "#set titles for x-axis\n",
    "ax.set_xlabel(\"Months\")\n",
    "#set title for y-axis\n",
    "ax.set_ylabel(\"Average Rating\")\n",
    "#placing the legend to avoid overlap\n",
    "plt.legend([\"Average Rating\"], loc=1, prop={'size': 12})\n",
    "plt.ylim(5.8,6.6)\n",
    "\n",
    "plt.show()"
   ]
  },
  {
   "cell_type": "markdown",
   "id": "dee635ec",
   "metadata": {},
   "source": [
    "# Conclusions\n",
    "\n",
    "This analysis leads to three recommendations for the new Movie Studio:\n",
    "\n",
    "* What type of movie did people watch in the past years?\n",
    "\n",
    "We can see that Animation, Adventure and Sci-fi are the Top 3 Movie Genres. The data shows the movies falling under these genres have made highest Gross Profit Collection worldwide. \n",
    "\n",
    "\n",
    "*Does movie-length have any impact on the audience?\n",
    "\n",
    "We should look into creating movies with runtime of more than 139 mins. Movies with longer runtime have collected highest Gross Profits and earned highest average rating.\n",
    "\n",
    "\n",
    "*When is the best time to release the movie to be successful?\n",
    "We should look into the June, November and May months as the preferred time to release the movies. The data shows movies released in these months have collected highest Gross Profits and had highest average ratings.It could of any reason like good weather, holiday season, etc.\n"
   ]
  },
  {
   "cell_type": "markdown",
   "id": "e9985825",
   "metadata": {},
   "source": [
    "# Next Steps\n",
    "\n",
    "Further analyses could yield additional insights for the business relating to type of movies to make and release.\n",
    "\n",
    "We could use further analysis to find out the breakdown of genre trends year wise,information on the best directors and actors for the movies. We can also work on further analysis of the movie production budget and its impact on average ratings to check if it has any co-relation and impact.\n"
   ]
  },
  {
   "cell_type": "code",
   "execution_count": null,
   "id": "e718a226",
   "metadata": {},
   "outputs": [],
   "source": []
  }
 ],
 "metadata": {
  "kernelspec": {
   "display_name": "Python 3 (ipykernel)",
   "language": "python",
   "name": "python3"
  },
  "language_info": {
   "codemirror_mode": {
    "name": "ipython",
    "version": 3
   },
   "file_extension": ".py",
   "mimetype": "text/x-python",
   "name": "python",
   "nbconvert_exporter": "python",
   "pygments_lexer": "ipython3",
   "version": "3.9.12"
  }
 },
 "nbformat": 4,
 "nbformat_minor": 5
}
